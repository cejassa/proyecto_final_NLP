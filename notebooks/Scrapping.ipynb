{
 "cells": [
  {
   "attachments": {},
   "cell_type": "markdown",
   "metadata": {},
   "source": [
    "### Importamos librerias"
   ]
  },
  {
   "cell_type": "code",
   "execution_count": 13,
   "metadata": {},
   "outputs": [],
   "source": [
    "#%pip install beautifulsoup4 lxml\n",
    "import numpy as np\n",
    "import pandas as pd\n",
    "from bs4 import BeautifulSoup as bs\n",
    "import requests"
   ]
  },
  {
   "attachments": {},
   "cell_type": "markdown",
   "metadata": {},
   "source": [
    "### Buscamos en Wikipedia"
   ]
  },
  {
   "cell_type": "code",
   "execution_count": 14,
   "metadata": {},
   "outputs": [
    {
     "data": {
      "text/plain": [
       "<Response [200]>"
      ]
     },
     "execution_count": 14,
     "metadata": {},
     "output_type": "execute_result"
    }
   ],
   "source": [
    "url = 'https://es.wikipedia.org/wiki/Sierra_Norte_(Madrid)'\n",
    "response = requests.get(url)\n",
    "response"
   ]
  },
  {
   "attachments": {},
   "cell_type": "markdown",
   "metadata": {},
   "source": [
    "### Pasamos la pagina a BeautifulSoup"
   ]
  },
  {
   "cell_type": "code",
   "execution_count": 15,
   "metadata": {},
   "outputs": [],
   "source": [
    "pagina = bs(response.content, \"html.parser\")"
   ]
  },
  {
   "attachments": {},
   "cell_type": "markdown",
   "metadata": {},
   "source": [
    "### Separamos la comarca por subcomarcas y municipios"
   ]
  },
  {
   "cell_type": "code",
   "execution_count": 16,
   "metadata": {},
   "outputs": [],
   "source": [
    "subcomarcas = {} # Diccionario para almacenar las subcomarcas\n",
    "for text in pagina.select('div.thumbcaption span'):\n",
    "    try:\n",
    "        slicers = [text.text.strip('\\xa0 ').index(\"(\"), text.text.strip('\\xa0').index(':')] # Estos indices nos ayudarán a hacer slicing y eliminar caracteres no deseados\n",
    "        subcomarca = (text.text.strip('\\xa0 ')[:slicers[0]-1])\n",
    "        subcomarcas[subcomarca] = (text.text.strip('\\xa0 ')[slicers[1]+1:-1]).split('; ')\n",
    "    except:\n",
    "        pass\n",
    "# Diccionario completo con {'Subcomarca' : [Municipios]}\n",
    "#print(subcomarcas)\n",
    "\n",
    "# Creamos el Dataframe de las subcomarcas\n",
    "df_subcomarcas = pd.DataFrame.from_dict(subcomarcas, orient='index').T\n",
    "\n",
    "# Lo guardamos como csv\n",
    "df_subcomarcas.to_csv('./csv/Subcomarcas.csv', encoding='latin1')"
   ]
  },
  {
   "attachments": {},
   "cell_type": "markdown",
   "metadata": {},
   "source": [
    "---"
   ]
  },
  {
   "attachments": {},
   "cell_type": "markdown",
   "metadata": {},
   "source": [
    "### Ahora vamos a hacer scrapping para obtener la poblacion y la superficie por municipio"
   ]
  },
  {
   "cell_type": "code",
   "execution_count": 17,
   "metadata": {},
   "outputs": [],
   "source": [
    "# Elemento que contiene la tabla\n",
    "table = pagina.find('table', class_='wikitable sortable')\n",
    "\n",
    "# Pasamos la tabla a dataframe\n",
    "df_habitantes = pd.read_html(str(table), thousands='.', decimal= ',')[0]\n",
    "\n",
    "# Tenemos que preparar y quitar errores que haya en el dataframe\n",
    "df_habitantes['Población'] = df_habitantes['Población'].str.split().str.join('')\n",
    "\n",
    "# Columna densidad de poblacion por municipio\n",
    "df_habitantes['Densidad'] = round(df_habitantes['Población'].astype(np.number) / df_habitantes['Superficie'].astype(np.number), 2)\n",
    "\n",
    "# Lo guardamos como csv\n",
    "df_habitantes.to_csv('./csv/Habitantes.csv', encoding='latin1')"
   ]
  },
  {
   "attachments": {},
   "cell_type": "markdown",
   "metadata": {},
   "source": [
    "---"
   ]
  },
  {
   "attachments": {},
   "cell_type": "markdown",
   "metadata": {},
   "source": [
    "### Mergeamos toda la información obtenida"
   ]
  },
  {
   "cell_type": "code",
   "execution_count": 18,
   "metadata": {},
   "outputs": [],
   "source": [
    "# Esta funcion nos permite encontrar a que subcomarca pertenece cada municipio\n",
    "def subcomarca_municipio(municipio, dic):\n",
    "    for key, valor in dic.items():\n",
    "        if municipio in valor:\n",
    "            return key"
   ]
  },
  {
   "cell_type": "code",
   "execution_count": 19,
   "metadata": {},
   "outputs": [],
   "source": [
    "# Creamos el DataFrame final\n",
    "df_final = df_habitantes.copy()\n",
    "df_final.insert(0, 'Subcomarca', df_habitantes['Municipio'].apply(subcomarca_municipio, args= [subcomarcas]))\n"
   ]
  },
  {
   "cell_type": "code",
   "execution_count": 20,
   "metadata": {},
   "outputs": [
    {
     "name": "stdout",
     "output_type": "stream",
     "text": [
      "Subcomarca    2\n",
      "Municipio     0\n",
      "Superficie    0\n",
      "Población     0\n",
      "Densidad      0\n",
      "dtype: int64\n",
      "   Subcomarca                    Municipio  Superficie Población  Densidad\n",
      "0        None                Total comarca     1252.89     31930     25.49\n",
      "15       None  Horcajo de la Sierra-Aoslos       20.57       170      8.26\n"
     ]
    }
   ],
   "source": [
    "# Comprobamos si algo ha fallado\n",
    "print(df_final.isna().sum()) # Vemos que hay 2 null en Subcomarca\n",
    "print(df_final[df_final.isnull().any(axis=1)]) # No se ha imputado bien al no tener el nombre igual, lo hacemos manualmente\n",
    "row = df_final.index[df_final['Municipio'] == 'Horcajo de la Sierra-Aoslos'] # Sacamos el indice (No hace falta pero queda más profesional, supongo...)\n",
    "df_final.loc[row, 'Subcomarca'] = 'Valle Medio del Lozoya'"
   ]
  },
  {
   "cell_type": "code",
   "execution_count": 21,
   "metadata": {},
   "outputs": [],
   "source": [
    "# Ponemos bonito el dataframe\n",
    "df_final.rename(columns = {'Superficie': 'Superficie (Km²)'}, inplace=True)\n",
    "df_final.sort_values('Subcomarca').reset_index(drop=True)\n",
    "\n",
    "# Lo guardamos\n",
    "df_final.to_csv('./csv/Pre.csv', encoding='latin1')"
   ]
  }
 ],
 "metadata": {
  "kernelspec": {
   "display_name": "Python 3",
   "language": "python",
   "name": "python3"
  },
  "language_info": {
   "codemirror_mode": {
    "name": "ipython",
    "version": 3
   },
   "file_extension": ".py",
   "mimetype": "text/x-python",
   "name": "python",
   "nbconvert_exporter": "python",
   "pygments_lexer": "ipython3",
   "version": "3.8.0"
  },
  "orig_nbformat": 4,
  "vscode": {
   "interpreter": {
    "hash": "8dc211990a9dba753ee80e2890569af6df313edc179456dc91eec7d34faee8d4"
   }
  }
 },
 "nbformat": 4,
 "nbformat_minor": 2
}
